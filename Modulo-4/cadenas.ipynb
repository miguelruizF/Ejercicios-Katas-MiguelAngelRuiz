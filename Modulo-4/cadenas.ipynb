{
 "cells": [
  {
   "cell_type": "markdown",
   "metadata": {},
   "source": [
    " CADENAS"
   ]
  },
  {
   "cell_type": "markdown",
   "metadata": {},
   "source": [
    "EJERCICIO 1"
   ]
  },
  {
   "cell_type": "code",
   "execution_count": 2,
   "metadata": {},
   "outputs": [
    {
     "name": "stdout",
     "output_type": "stream",
     "text": [
      "['Interesting facts about the Moon', \" The Moon is Earth's only satellite\", ' There are several interesting facts about the Moon and how it affects life here on Earth', ' \\nOn average, the Moon moves 4cm away from the Earth every year', ' This yearly drift is not significant enough to cause immediate effects on Earth', ' The highest daylight temperature of the Moon is 127 C', '']\n"
     ]
    }
   ],
   "source": [
    "text = \"\"\"Interesting facts about the Moon. The Moon is Earth's only satellite. There are several interesting facts about the Moon and how it affects life here on Earth. \n",
    "On average, the Moon moves 4cm away from the Earth every year. This yearly drift is not significant enough to cause immediate effects on Earth. The highest daylight temperature of the Moon is 127 C.\"\"\"\n",
    "\n",
    "newtext = text.split('.')\n",
    "print(newtext)"
   ]
  },
  {
   "cell_type": "code",
   "execution_count": 6,
   "metadata": {},
   "outputs": [
    {
     "name": "stdout",
     "output_type": "stream",
     "text": [
      " \n",
      "On average, the Moon moves 4cm away from the Earth every year\n",
      " The highest daylight temperature of the Moon is 127 C\n",
      " The highest daylight temperature of the Moon is 127 Celsius\n",
      " \n",
      "On average, the Moon moves 4cm away from the Earth every year\n",
      " The highest daylight temperature of the Moon is 127 C\n"
     ]
    }
   ],
   "source": [
    "pista1 = \"average\"\n",
    "pista2 = \"temperature\"\n",
    "pista3 = \"distance\"\n",
    "celsius = \"Celsius\"\n",
    "\n",
    "for item in newtext:\n",
    "    if(item.find(pista1) > 1):\n",
    "       print(item)\n",
    "\n",
    "for item in newtext:\n",
    "    if(item.find(pista2) > 1):\n",
    "       print(item)\n",
    "\n",
    "for item in newtext:\n",
    "    if(item.find(pista3) > 1):\n",
    "       print(item)\n",
    "\n",
    "for item in newtext:\n",
    "    if(item.find(\"C\") > 1):\n",
    "       newItem = item.replace(\"C\", \"Celsius\")\n",
    "       print(newItem)\n",
    "\n",
    " \n",
    "claves = ['average', 'temperature', 'distance' ]\n",
    "\n",
    "for texto in newtext:\n",
    "    for clave in claves:\n",
    "        if clave in texto:\n",
    "            print(texto)\n",
    "            break;\n",
    "\n",
    "\n",
    "\n"
   ]
  },
  {
   "cell_type": "markdown",
   "metadata": {},
   "source": [
    "EJERCICIO 2"
   ]
  },
  {
   "cell_type": "code",
   "execution_count": 53,
   "metadata": {},
   "outputs": [
    {
     "name": "stdout",
     "output_type": "stream",
     "text": [
      "The Moon And The Earth, United By Gravity \n",
      "----------------------------------------------------------------------\n",
      "Planet name: Earth \n",
      "Gravity in Moon: 1.6199999999999999 m/s2 \n",
      "\n"
     ]
    }
   ],
   "source": [
    "name = \"Moon\"\n",
    "gravity = 0.00162 # in kms\n",
    "planet = \"Earth\"\n",
    "\n",
    "titulo = (f\"The {name} and the {planet}, united by gravity\").title()\n",
    "lineas = (\"-\"*70)\n",
    "#print(lineas)\n",
    "\n",
    "templateGravity = f\"{titulo} \\n{lineas}\\nPlanet name: {planet} \\nGravity in {name}: {gravity*1000} m/s2 \\n\"\n",
    "print(templateGravity)"
   ]
  },
  {
   "cell_type": "code",
   "execution_count": 12,
   "metadata": {},
   "outputs": [
    {
     "name": "stdout",
     "output_type": "stream",
     "text": [
      "The Tierra And The Luna, United By Gravity \n",
      "----------------------------------------------------------------------\n",
      "Planet name: luna \n",
      "Gravity in Tierra: 1.65 m/s2 \n",
      "\n",
      "Datos de Gravedad sobre: Ganímedes\n",
      "-------------------------------------------------------------------------------\n",
      "Nombre del planeta: Marte \n",
      "Gravedad en Ganímedes: 0.00143 m/s2\n",
      "\n"
     ]
    }
   ],
   "source": [
    "planet = 'luna'\n",
    "gravity  = 0.00165\n",
    "name = 'Tierra'\n",
    "\n",
    "titulo = (f\"The {name} and the {planet}, united by gravity\").title()\n",
    "lineas = (\"-\"*70)\n",
    "\n",
    "templateGravity = f\"{titulo} \\n{lineas}\\nPlanet name: {planet} \\nGravity in {name}: {gravity*1000} m/s2 \\n\"\n",
    "print(templateGravity)\n",
    "\n",
    "planeta = 'Marte '\n",
    "gravedad  = 0.00143\n",
    "nombre = 'Ganímedes'\n",
    "\n",
    "vista = \"\"\"Datos de Gravedad sobre: {nombre}\n",
    "-------------------------------------------------------------------------------\n",
    "Nombre del planeta: {planeta}\n",
    "Gravedad en {nombre}: {gravedad} m/s2\n",
    "\"\"\"\n",
    "\n",
    "print(vista.format(nombre=nombre, planeta=planeta, gravedad = gravedad));"
   ]
  }
 ],
 "metadata": {
  "interpreter": {
   "hash": "4a1ef56ae334454bb6f5a45fe2b94dab72a6f2053bbaddbe367db7fef8ab062d"
  },
  "kernelspec": {
   "display_name": "Python 3.10.2 ('env': venv)",
   "language": "python",
   "name": "python3"
  },
  "language_info": {
   "codemirror_mode": {
    "name": "ipython",
    "version": 3
   },
   "file_extension": ".py",
   "mimetype": "text/x-python",
   "name": "python",
   "nbconvert_exporter": "python",
   "pygments_lexer": "ipython3",
   "version": "3.10.2"
  },
  "orig_nbformat": 4
 },
 "nbformat": 4,
 "nbformat_minor": 2
}
