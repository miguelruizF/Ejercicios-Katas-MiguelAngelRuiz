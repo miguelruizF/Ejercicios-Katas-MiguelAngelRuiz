{
 "cells": [
  {
   "cell_type": "markdown",
   "metadata": {},
   "source": [
    " CADENAS"
   ]
  },
  {
   "cell_type": "markdown",
   "metadata": {},
   "source": [
    "EJERCICIO 1"
   ]
  },
  {
   "cell_type": "code",
   "execution_count": 1,
   "metadata": {},
   "outputs": [
    {
     "name": "stdout",
     "output_type": "stream",
     "text": [
      "['Interesting facts about the Moon', \" The Moon is Earth's only satellite\", ' There are several interesting facts about the Moon and how it affects life here on Earth', ' \\nOn average, the Moon moves 4cm away from the Earth every year', ' This yearly drift is not significant enough to cause immediate effects on Earth', ' The highest daylight temperature of the Moon is 127 C', '']\n"
     ]
    }
   ],
   "source": [
    "text = \"\"\"Interesting facts about the Moon. The Moon is Earth's only satellite. There are several interesting facts about the Moon and how it affects life here on Earth. \n",
    "On average, the Moon moves 4cm away from the Earth every year. This yearly drift is not significant enough to cause immediate effects on Earth. The highest daylight temperature of the Moon is 127 C.\"\"\"\n",
    "\n",
    "newtext = text.split('.')\n",
    "print(newtext)"
   ]
  },
  {
   "cell_type": "code",
   "execution_count": 37,
   "metadata": {},
   "outputs": [
    {
     "name": "stdout",
     "output_type": "stream",
     "text": [
      " \n",
      "On average, the Moon moves 4cm away from the Earth every year\n",
      " The highest daylight temperature of the Moon is 127 C\n",
      " The highest daylight temperature of the Moon is 127 Celsius\n"
     ]
    }
   ],
   "source": [
    "pista1 = \"average\"\n",
    "pista2 = \"temperature\"\n",
    "pista3 = \"distance\"\n",
    "celsius = \"Celsius\"\n",
    "\n",
    "for item in newtext:\n",
    "    if(item.find(pista1) > 1):\n",
    "       print(item)\n",
    "\n",
    "for item in newtext:\n",
    "    if(item.find(pista2) > 1):\n",
    "       print(item)\n",
    "\n",
    "for item in newtext:\n",
    "    if(item.find(pista3) > 1):\n",
    "       print(item)\n",
    "\n",
    "for item in newtext:\n",
    "    if(item.find(\"C\") > 1):\n",
    "       newItem = item.replace(\"C\", \"Celsius\")\n",
    "       print(newItem)\n"
   ]
  },
  {
   "cell_type": "markdown",
   "metadata": {},
   "source": [
    "EJERCICIO 2"
   ]
  },
  {
   "cell_type": "code",
   "execution_count": 53,
   "metadata": {},
   "outputs": [
    {
     "name": "stdout",
     "output_type": "stream",
     "text": [
      "The Moon And The Earth, United By Gravity \n",
      "----------------------------------------------------------------------\n",
      "Planet name: Earth \n",
      "Gravity in Moon: 1.6199999999999999 m/s2 \n",
      "\n"
     ]
    }
   ],
   "source": [
    "name = \"Moon\"\n",
    "gravity = 0.00162 # in kms\n",
    "planet = \"Earth\"\n",
    "\n",
    "titulo = (f\"The {name} and the {planet}, united by gravity\").title()\n",
    "lineas = (\"-\"*70)\n",
    "#print(lineas)\n",
    "\n",
    "templateGravity = f\"{titulo} \\n{lineas}\\nPlanet name: {planet} \\nGravity in {name}: {gravity*1000} m/s2 \\n\"\n",
    "print(templateGravity)"
   ]
  },
  {
   "cell_type": "code",
   "execution_count": 55,
   "metadata": {},
   "outputs": [
    {
     "name": "stdout",
     "output_type": "stream",
     "text": [
      "The Ganímedes And The Marte , United By Gravity \n",
      "----------------------------------------------------------------------\n",
      "Planet name: Marte  \n",
      "Gravity in Ganímedes: 1.4300000000000002 m/s2 \n",
      "\n"
     ]
    }
   ],
   "source": [
    "planet = 'Marte '\n",
    "gravity  = 0.00143\n",
    "name = 'Ganímedes'\n",
    "\n",
    "titulo = (f\"The {name} and the {planet}, united by gravity\").title()\n",
    "lineas = (\"-\"*70)\n",
    "\n",
    "templateGravity = f\"{titulo} \\n{lineas}\\nPlanet name: {planet} \\nGravity in {name}: {gravity*1000} m/s2 \\n\"\n",
    "print(templateGravity)"
   ]
  }
 ],
 "metadata": {
  "interpreter": {
   "hash": "4a1ef56ae334454bb6f5a45fe2b94dab72a6f2053bbaddbe367db7fef8ab062d"
  },
  "kernelspec": {
   "display_name": "Python 3.10.2 ('env': venv)",
   "language": "python",
   "name": "python3"
  },
  "language_info": {
   "codemirror_mode": {
    "name": "ipython",
    "version": 3
   },
   "file_extension": ".py",
   "mimetype": "text/x-python",
   "name": "python",
   "nbconvert_exporter": "python",
   "pygments_lexer": "ipython3",
   "version": "3.10.2"
  },
  "orig_nbformat": 4
 },
 "nbformat": 4,
 "nbformat_minor": 2
}
