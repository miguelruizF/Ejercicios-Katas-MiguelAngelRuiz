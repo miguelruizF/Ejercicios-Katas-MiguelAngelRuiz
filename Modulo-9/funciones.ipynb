{
 "cells": [
  {
   "cell_type": "markdown",
   "metadata": {},
   "source": [
    "FUNCIONES"
   ]
  },
  {
   "cell_type": "markdown",
   "metadata": {},
   "source": [
    "Ejercicio 1"
   ]
  },
  {
   "cell_type": "code",
   "execution_count": 25,
   "metadata": {},
   "outputs": [
    {
     "name": "stdout",
     "output_type": "stream",
     "text": [
      "El promedio de combustible es de: 5\n"
     ]
    },
    {
     "data": {
      "text/plain": [
       "'Reporte: El promedio de combustible es: 6'"
      ]
     },
     "execution_count": 25,
     "metadata": {},
     "output_type": "execute_result"
    }
   ],
   "source": [
    "def nivel_combustible(lec1, lec2,lec3):\n",
    "    suma = (lec1 + lec2 + lec3)/3\n",
    "    print(f'El promedio de combustible es de: {round(suma)}')\n",
    "\n",
    "nivel_combustible(3,8,5)\n",
    "\n",
    "def promedio(tanques):\n",
    "    total = sum(tanques)\n",
    "    num_val = len(tanques)\n",
    "    return f'El promedio de combustible es: {round(total/num_val)}'\n",
    "\n",
    "promedio([3,8,5])\n",
    "\n",
    "def reporte(tanque1, tanque2, tanque3):\n",
    "    return f'Reporte: {promedio([tanque1, tanque2, tanque3])}'\n",
    "\n",
    "reporte(5, 6, 8)"
   ]
  },
  {
   "cell_type": "markdown",
   "metadata": {},
   "source": [
    "Ejercicio 2"
   ]
  },
  {
   "cell_type": "code",
   "execution_count": 39,
   "metadata": {},
   "outputs": [
    {
     "name": "stdout",
     "output_type": "stream",
     "text": [
      "Hora de lanzamiento: 0.8333333333333334 horas\n",
      "Tiempo de vuelo: 150 minutos\n",
      "Destino: Marte\n",
      "Tanque externo: 100000 litros\n",
      "Tanque interno: 10000000 litros\n",
      "Total de litros de combustible: 10100000 litros\n"
     ]
    }
   ],
   "source": [
    "def informe(prelanzamiento, tiempo_vuelo, destino, tanque_externo, tanque_interno):\n",
    "    print( f\"Hora de lanzamiento: {prelanzamiento/60} horas\\nTiempo de vuelo: {tiempo_vuelo + prelanzamiento} minutos\\nDestino: {destino}\\nTanque externo: {tanque_externo} litros\\nTanque interno: {tanque_interno} litros\\nTotal de litros de combustible: {tanque_externo+tanque_interno} litros\")\n",
    "informe(50, 100, \"Marte\", 100000, 10000000)"
   ]
  },
  {
   "cell_type": "code",
   "execution_count": 45,
   "metadata": {},
   "outputs": [
    {
     "name": "stdout",
     "output_type": "stream",
     "text": [
      "Destino: Saturno\n",
      "Total de minutos de viaje: 2884 minutos\n",
      "Total de combustible: 5336532 litros\n",
      "tanque-externo : 306532 litros\n",
      "tanque-interno : 5030000 litros\n",
      "Destino: Saturno\n",
      "Total de minutos de viaje: 2884 minutos\n",
      "Total de combustible: 5336532 litros\n",
      "tanque-externo : 306532 litros\n",
      "tanque-interno : 5030000 litros\n"
     ]
    }
   ],
   "source": [
    "def informe2(destino, *minutos, **combustible):\n",
    "    reporte = f'Destino: {destino}\\nTotal de minutos de viaje: {sum(minutos)} minutos\\nTotal de combustible: {sum(combustible.values())} litros'\n",
    "    for tanque, litros in combustible.items():\n",
    "        reporte += f'\\ntanque-{tanque} : {litros} litros'\n",
    "    print(reporte)\n",
    "    return reporte\n",
    "\n",
    "print(informe2(\"Saturno\", 500, 1523, 861, externo=306532, interno=5030000))"
   ]
  },
  {
   "cell_type": "code",
   "execution_count": null,
   "metadata": {},
   "outputs": [],
   "source": []
  }
 ],
 "metadata": {
  "interpreter": {
   "hash": "70c8a4d3b2a72772bfc920503472cea44bca93ba1580228e0f93ca5e652fa271"
  },
  "kernelspec": {
   "display_name": "Python 3.10.2 64-bit",
   "language": "python",
   "name": "python3"
  },
  "language_info": {
   "codemirror_mode": {
    "name": "ipython",
    "version": 3
   },
   "file_extension": ".py",
   "mimetype": "text/x-python",
   "name": "python",
   "nbconvert_exporter": "python",
   "pygments_lexer": "ipython3",
   "version": "3.10.2"
  },
  "orig_nbformat": 4
 },
 "nbformat": 4,
 "nbformat_minor": 2
}
