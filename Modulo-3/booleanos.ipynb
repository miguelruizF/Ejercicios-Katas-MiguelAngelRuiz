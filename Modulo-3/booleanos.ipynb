{
 "cells": [
  {
   "cell_type": "markdown",
   "metadata": {},
   "source": [
    "BOOLEANOS"
   ]
  },
  {
   "cell_type": "markdown",
   "metadata": {},
   "source": [
    "EJERCICIO 1"
   ]
  },
  {
   "cell_type": "code",
   "execution_count": 13,
   "metadata": {},
   "outputs": [
    {
     "name": "stdout",
     "output_type": "stream",
     "text": [
      "Fuera de peligro\n"
     ]
    }
   ],
   "source": [
    "velocidad_asteroide = 49\n",
    "if velocidad_asteroide >= 25:\n",
    "    print(\"Advertencia: Se acerca un asteroide a: \",velocidad_asteroide,\"km/s\")\n",
    "else:\n",
    "    print(\"Fuera de peligro\")\n"
   ]
  },
  {
   "cell_type": "markdown",
   "metadata": {},
   "source": [
    "EJERCICIO 2"
   ]
  },
  {
   "cell_type": "code",
   "execution_count": 11,
   "metadata": {},
   "outputs": [
    {
     "name": "stdout",
     "output_type": "stream",
     "text": [
      "Mira al cielo, podras ver el rayo de luz de un asteroide.\n"
     ]
    }
   ],
   "source": [
    "velocidad_asteroide = 50\n",
    "if velocidad_asteroide > 20:\n",
    "    print(\"Mira al cielo, podras ver el rayo de luz de un asteroide.\")\n",
    "elif velocidad_asteroide == 20:\n",
    "    print(\"Mira al cielo, podras ver el rayo de luz de un asteroide.\")\n",
    "else:\n",
    "    print(\"Demasiado tarde. NO pudiste ver pasar el asteroide\")"
   ]
  },
  {
   "cell_type": "markdown",
   "metadata": {},
   "source": [
    "EJERCICIO 3\n"
   ]
  },
  {
   "cell_type": "code",
   "execution_count": 29,
   "metadata": {},
   "outputs": [
    {
     "name": "stdout",
     "output_type": "stream",
     "text": [
      "Rayos!!! este asteroide podria causar mucho daño\n",
      "Advertencia: Se acerca un asteroide a:  21 km/s\n"
     ]
    }
   ],
   "source": [
    "tamanio_asteriode = 30\n",
    "velocidad_asteroide = 21\n",
    "\n",
    "if tamanio_asteriode >= 25 and tamanio_asteriode < 1000 and velocidad_asteroide > 20:\n",
    "    print(\"Rayos!!! este asteroide podria causar mucho daño\")\n",
    "    print(\"Advertencia: Se acerca un asteroide a: \",velocidad_asteroide,\"km/s\") \n",
    "elif velocidad_asteroide == 20:\n",
    "    print(\"Mira hacia el cielo, podras ver pasar un asteroide\")\n",
    "else:\n",
    "    print(\"Que pena, no hay nada en el cielo\")\n",
    "\n",
    "    "
   ]
  },
  {
   "cell_type": "code",
   "execution_count": 22,
   "metadata": {},
   "outputs": [
    {
     "name": "stdout",
     "output_type": "stream",
     "text": [
      "Tal vez debas preocuparte, un asteroide se dirige a la Tierra\n"
     ]
    }
   ],
   "source": [
    "tamanio_asteriode = 30\n",
    "velocidad_asteroide = 250\n",
    "\n",
    "if tamanio_asteriode > 25 and velocidad_asteroide > 25:\n",
    "    print(\"Tal vez debas preocuparte, un asteroide se dirige a la Tierra\")\n",
    "elif velocidad_asteroide >= 20:\n",
    "    print(\"Mira hacia el cielo, algo esta pasando\")\n",
    "elif tamanio_asteriode < 25:\n",
    "    print(\"Continua en lo que estes haciendo\")\n",
    "else:\n",
    "    print(\"Continua en lo que estes haciendo\")\n"
   ]
  },
  {
   "cell_type": "markdown",
   "metadata": {},
   "source": []
  }
 ],
 "metadata": {
  "interpreter": {
   "hash": "70c8a4d3b2a72772bfc920503472cea44bca93ba1580228e0f93ca5e652fa271"
  },
  "kernelspec": {
   "display_name": "Python 3.10.2 64-bit",
   "language": "python",
   "name": "python3"
  },
  "language_info": {
   "codemirror_mode": {
    "name": "ipython",
    "version": 3
   },
   "file_extension": ".py",
   "mimetype": "text/x-python",
   "name": "python",
   "nbconvert_exporter": "python",
   "pygments_lexer": "ipython3",
   "version": "3.10.2"
  },
  "orig_nbformat": 4
 },
 "nbformat": 4,
 "nbformat_minor": 2
}
