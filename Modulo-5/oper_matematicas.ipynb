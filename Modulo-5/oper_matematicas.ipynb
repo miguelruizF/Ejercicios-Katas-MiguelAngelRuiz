{
 "cells": [
  {
   "cell_type": "markdown",
   "metadata": {},
   "source": [
    "OPERACIONES ARITMETICAS"
   ]
  },
  {
   "cell_type": "markdown",
   "metadata": {},
   "source": [
    "EJERCICIO 1"
   ]
  },
  {
   "cell_type": "code",
   "execution_count": 24,
   "metadata": {},
   "outputs": [
    {
     "name": "stdout",
     "output_type": "stream",
     "text": [
      "La distancia entre la tierra y jupiter es de: 390810874 millas\n"
     ]
    }
   ],
   "source": [
    "tierra = 149597870\n",
    "jupiter = 778547200\n",
    "\n",
    "distancia = (jupiter - tierra)\n",
    "print(f\"La distancia entre la tierra y jupiter es de: {int(distancia*0.621371)} millas\")\n",
    "#print(f\"Distancia Tierra: {tierra*1.609344}\")"
   ]
  },
  {
   "cell_type": "markdown",
   "metadata": {},
   "source": [
    "EJERCICIO 2"
   ]
  },
  {
   "cell_type": "code",
   "execution_count": 27,
   "metadata": {},
   "outputs": [
    {
     "name": "stdout",
     "output_type": "stream",
     "text": [
      "La distancia entre el planeta dos y el planeta uno es de: 275 millas\n"
     ]
    }
   ],
   "source": [
    "planet_one = input(\"Ingresa la distancia del primer planeta\")\n",
    "planet_two = input(\"Ingresa la distancia del segundo planeta\")\n",
    "\n",
    "planet_one = int(planet_one)\n",
    "planet_two = int(planet_two)\n",
    "\n",
    "distancia  = abs(planet_two - planet_one)*0.621\n",
    "print(f\"La distancia entre el planeta dos y el planeta uno es de: {int(distancia)} millas\")\n",
    "\n"
   ]
  },
  {
   "cell_type": "code",
   "execution_count": null,
   "metadata": {},
   "outputs": [],
   "source": []
  }
 ],
 "metadata": {
  "interpreter": {
   "hash": "70c8a4d3b2a72772bfc920503472cea44bca93ba1580228e0f93ca5e652fa271"
  },
  "kernelspec": {
   "display_name": "Python 3.10.2 64-bit",
   "language": "python",
   "name": "python3"
  },
  "language_info": {
   "codemirror_mode": {
    "name": "ipython",
    "version": 3
   },
   "file_extension": ".py",
   "mimetype": "text/x-python",
   "name": "python",
   "nbconvert_exporter": "python",
   "pygments_lexer": "ipython3",
   "version": "3.10.2"
  },
  "orig_nbformat": 4
 },
 "nbformat": 4,
 "nbformat_minor": 2
}
