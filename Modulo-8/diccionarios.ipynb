{
 "cells": [
  {
   "cell_type": "markdown",
   "metadata": {},
   "source": [
    "DICCIONARIOS"
   ]
  },
  {
   "cell_type": "markdown",
   "metadata": {},
   "source": [
    "Ejercicio 1"
   ]
  },
  {
   "cell_type": "code",
   "execution_count": 1,
   "metadata": {},
   "outputs": [
    {
     "name": "stdout",
     "output_type": "stream",
     "text": [
      "El planeta Mars tiene 2 lunas\n",
      "El planeta Mars tiene una circunferencia polar de 6752\n"
     ]
    }
   ],
   "source": [
    "planet = {\n",
    "    'name': 'Mars',\n",
    "    'moons': 2\n",
    "}\n",
    "\n",
    "print(f'El planeta {planet[\"name\"]} tiene {planet[\"moons\"]} lunas')\n",
    "\n",
    "planet['circunferencia_km'] = {\n",
    "    'polar': 6752,\n",
    "    'equatorial': 6792    \n",
    "}\n",
    "print(f'El planeta {planet[\"name\"]} tiene una circunferencia polar de {planet[\"circunferencia_km\"][\"polar\"]}')"
   ]
  },
  {
   "cell_type": "markdown",
   "metadata": {},
   "source": [
    "Ejercicio 2"
   ]
  },
  {
   "cell_type": "code",
   "execution_count": 2,
   "metadata": {},
   "outputs": [
    {
     "name": "stdout",
     "output_type": "stream",
     "text": [
      "17.833333333333332\n"
     ]
    }
   ],
   "source": [
    "planet_moons = {\n",
    "    'mercury': 0,\n",
    "    'venus': 0,\n",
    "    'earth': 1,\n",
    "    'mars': 2,\n",
    "    'jupiter': 79,\n",
    "    'saturn': 82,\n",
    "    'uranus': 27,\n",
    "    'neptune': 14,\n",
    "    'pluto': 5,\n",
    "    'haumea': 2,\n",
    "    'makemake': 1,\n",
    "    'eris': 1\n",
    "}\n",
    "\n",
    "moons = planet_moons.values()\n",
    "\n",
    "planets = len(planet_moons.keys())\n",
    "\n",
    "total_moons = 0\n",
    "for luna in moons:\n",
    "    total_moons = total_moons + luna\n",
    "\n",
    "promedio = total_moons / planets\n",
    "print(promedio)"
   ]
  }
 ],
 "metadata": {
  "interpreter": {
   "hash": "4a1ef56ae334454bb6f5a45fe2b94dab72a6f2053bbaddbe367db7fef8ab062d"
  },
  "kernelspec": {
   "display_name": "Python 3.10.2 ('env': venv)",
   "language": "python",
   "name": "python3"
  },
  "language_info": {
   "codemirror_mode": {
    "name": "ipython",
    "version": 3
   },
   "file_extension": ".py",
   "mimetype": "text/x-python",
   "name": "python",
   "nbconvert_exporter": "python",
   "pygments_lexer": "ipython3",
   "version": "3.10.2"
  },
  "orig_nbformat": 4
 },
 "nbformat": 4,
 "nbformat_minor": 2
}
